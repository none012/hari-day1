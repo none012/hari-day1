{
 "cells": [
  {
   "cell_type": "markdown",
   "id": "b1ae23ae",
   "metadata": {},
   "source": [
    "# Today topics\n",
    "  - anaconda enivironment installation\n",
    "  - literate programming\n",
    "  - markdown basics"
   ]
  },
  {
   "cell_type": "markdown",
   "id": "cdc82544",
   "metadata": {},
   "source": [
    "# heading1\n",
    "## heading 2\n",
    "### heading 3\n",
    "upto\n",
    "###### heading6"
   ]
  },
  {
   "cell_type": "markdown",
   "id": "aeb03cc7",
   "metadata": {},
   "source": [
    "#### Horking with Markdown\n",
    "- i am an *Itallic* text\n",
    "- i am **Bold** in **Itallic**\n",
    "- i am ***Bold Italic***"
   ]
  },
  {
   "cell_type": "markdown",
   "id": "fcc38293",
   "metadata": {},
   "source": [
    "### Literate proagamming\n",
    "* **Programming** along with documention\n",
    "   * A set of statements\n",
    "   * writing a report/preparing a refarence"
   ]
  },
  {
   "cell_type": "markdown",
   "id": "0a763b19",
   "metadata": {},
   "source": [
    "<img src=\"lotus-flower-8341397.jpg\">hari's flower</img>"
   ]
  },
  {
   "cell_type": "markdown",
   "id": "7752ddaf",
   "metadata": {},
   "source": [
    "<img src=\"beautiful-pink-waterlily-lotus-flower-260nw-1006750006.jpg\">hari said</img>"
   ]
  },
  {
   "cell_type": "markdown",
   "id": "a4288ebf",
   "metadata": {},
   "source": [
    "### python\n",
    " - It is a general purpose high level and interpretated programming language\n",
    "   -general purpase\n",
    "      -used for many purpose such as scientific computation ,web devlovpment ,system software devlopment,mobile application devlopment etc.\n",
    "   - high level language\n",
    "      - user understandable language \n",
    "   - interpretated language\n",
    "      - gives the line by line execution\n",
    "-  **need of learning python**\n",
    "  - it is the building block of all currnt runnig technolgies like date sciences,ARTIFICAL INTELIGENCE,machine learning,robitics,iot etc\n",
    "-  **features**\n",
    "   - syntax free language\n",
    "   - it is case sensitive and space sensitive language\n",
    "   - easy to learn and simple to code"
   ]
  },
  {
   "cell_type": "code",
   "execution_count": 5,
   "id": "e93bf3b0",
   "metadata": {
    "collapsed": true
   },
   "outputs": [
    {
     "name": "stdout",
     "output_type": "stream",
     "text": [
      "welcome to python\n"
     ]
    }
   ],
   "source": [
    "#pyhon program to display \"welcome to phton \" message\n",
    "print(\"welcome to python\")"
   ]
  },
  {
   "cell_type": "code",
   "execution_count": 7,
   "id": "cfc29080",
   "metadata": {
    "collapsed": true
   },
   "outputs": [
    {
     "name": "stdout",
     "output_type": "stream",
     "text": [
      "welcome to python\n"
     ]
    }
   ],
   "source": [
    "print('welcome to python')"
   ]
  },
  {
   "cell_type": "code",
   "execution_count": 8,
   "id": "8444bbaf",
   "metadata": {},
   "outputs": [
    {
     "name": "stdout",
     "output_type": "stream",
     "text": [
      "M\n"
     ]
    }
   ],
   "source": [
    "# write a program \"to display first letter\"\n",
    "print('M')"
   ]
  },
  {
   "cell_type": "code",
   "execution_count": 9,
   "id": "d47f27a2",
   "metadata": {},
   "outputs": [
    {
     "name": "stdout",
     "output_type": "stream",
     "text": [
      "0\n"
     ]
    }
   ],
   "source": [
    "print(13-13)# addition of two numbers"
   ]
  },
  {
   "cell_type": "markdown",
   "id": "e969b57a",
   "metadata": {},
   "source": [
    "#### print()\n",
    "- used to display the otput on screen\n",
    "- print 2 types of"
   ]
  },
  {
   "cell_type": "markdown",
   "id": "2e994a80",
   "metadata": {},
   "source": [
    "#### **error**\n",
    "  - an invalid statementsaid to be an error\n",
    "  - 3 tpes of error\n",
    "    - 1). syntax error\n",
    "        - error relate to syntax\n",
    "        - Ex. print (\"har')\n",
    "    - 2). vale error\n",
    "    -   - Ex.5+ \"hari\" # type erroe\n",
    "    - 3). indentation error"
   ]
  },
  {
   "cell_type": "code",
   "execution_count": 14,
   "id": "ae591df2",
   "metadata": {
    "collapsed": true
   },
   "outputs": [
    {
     "ename": "SyntaxError",
     "evalue": "EOL while scanning string literal (<ipython-input-14-6bd65bf8a676>, line 1)",
     "output_type": "error",
     "traceback": [
      "\u001b[1;36m  File \u001b[1;32m\"<ipython-input-14-6bd65bf8a676>\"\u001b[1;36m, line \u001b[1;32m1\u001b[0m\n\u001b[1;33m    print(\"hari')\u001b[0m\n\u001b[1;37m                 ^\u001b[0m\n\u001b[1;31mSyntaxError\u001b[0m\u001b[1;31m:\u001b[0m EOL while scanning string literal\n"
     ]
    }
   ],
   "source": [
    "print(\"hari')"
   ]
  },
  {
   "cell_type": "code",
   "execution_count": 31,
   "id": "30b6d8bf",
   "metadata": {},
   "outputs": [
    {
     "ename": "TypeError",
     "evalue": "unsupported operand type(s) for +: 'int' and 'str'",
     "output_type": "error",
     "traceback": [
      "\u001b[1;31m---------------------------------------------------------------------------\u001b[0m",
      "\u001b[1;31mTypeError\u001b[0m                                 Traceback (most recent call last)",
      "\u001b[1;32m<ipython-input-31-1ad5db6921ae>\u001b[0m in \u001b[0;36m<module>\u001b[1;34m\u001b[0m\n\u001b[1;32m----> 1\u001b[1;33m \u001b[1;36m5\u001b[0m\u001b[1;33m+\u001b[0m \u001b[1;34m\"hari\"\u001b[0m \u001b[1;31m# type erroe\u001b[0m\u001b[1;33m\u001b[0m\u001b[1;33m\u001b[0m\u001b[0m\n\u001b[0m",
      "\u001b[1;31mTypeError\u001b[0m: unsupported operand type(s) for +: 'int' and 'str'"
     ]
    }
   ],
   "source": [
    "5+ \"hari\" # type erroe"
   ]
  },
  {
   "cell_type": "markdown",
   "id": "7c64c20c",
   "metadata": {},
   "source": [
    "#### variables\n",
    "- it is a contaniner to store the data / value\n",
    "  - Ex.  x=10"
   ]
  },
  {
   "cell_type": "code",
   "execution_count": 17,
   "id": "d8c7e42b",
   "metadata": {},
   "outputs": [
    {
     "name": "stdout",
     "output_type": "stream",
     "text": [
      "10\n",
      "x\n"
     ]
    }
   ],
   "source": [
    "x=10\n",
    "print(x)\n",
    "print(\"x\")"
   ]
  },
  {
   "cell_type": "code",
   "execution_count": 41,
   "id": "d1fe1442",
   "metadata": {},
   "outputs": [
    {
     "name": "stdout",
     "output_type": "stream",
     "text": [
      "my name is : Hari\n",
      "name\n"
     ]
    }
   ],
   "source": [
    "name=\"Hari\"\n",
    "print(\"my name is :\",name)\n",
    "print(\"name\")"
   ]
  },
  {
   "cell_type": "code",
   "execution_count": 26,
   "id": "610b985f",
   "metadata": {},
   "outputs": [
    {
     "name": "stdout",
     "output_type": "stream",
     "text": [
      "subracte a-b: 0\n"
     ]
    }
   ],
   "source": [
    "# write a programme to add two numbers\n",
    "a=13\n",
    "b=13\n",
    "print(\"subracte a-b:\",a-b)"
   ]
  },
  {
   "cell_type": "code",
   "execution_count": 29,
   "id": "472b302a",
   "metadata": {},
   "outputs": [
    {
     "name": "stdout",
     "output_type": "stream",
     "text": [
      "1 2 3\n"
     ]
    }
   ],
   "source": [
    "a,b,c=1,2,3\n",
    "print(a,b,c)"
   ]
  },
  {
   "cell_type": "code",
   "execution_count": 30,
   "id": "cb30809a",
   "metadata": {},
   "outputs": [
    {
     "name": "stdout",
     "output_type": "stream",
     "text": [
      "10 10 10\n",
      "21 10 10\n"
     ]
    }
   ],
   "source": [
    "a=b=c=10\n",
    "f=10\n",
    "g=10\n",
    "v=21\n",
    "print(a,b,c)\n",
    "print(v,f,g)"
   ]
  },
  {
   "cell_type": "code",
   "execution_count": 38,
   "id": "d65b2556",
   "metadata": {},
   "outputs": [
    {
     "name": "stdout",
     "output_type": "stream",
     "text": [
      "sum = 30\n",
      "differnace = 10\n",
      "multiply = 200\n",
      "divide =  0.5\n",
      "remainder 10\n"
     ]
    }
   ],
   "source": [
    "# pythonprogram to declare 2 variable and perform the arthematic operations\n",
    "num,num1=10,20\n",
    "print (\"sum =\",num+num1)\n",
    "print (\"differnace =\",num1-num)\n",
    "print (\"multiply =\",num*num1)\n",
    "print (\"divide = \",num/num1)\n",
    "print (\"remainder\",num%num1)\n"
   ]
  },
  {
   "cell_type": "code",
   "execution_count": 43,
   "id": "27b36d5c",
   "metadata": {},
   "outputs": [
    {
     "name": "stdout",
     "output_type": "stream",
     "text": [
      "enter your name:murahari.chavali\n",
      "murahari.chavali\n"
     ]
    }
   ],
   "source": [
    "# python program to read your name and print it\n",
    "name =input(\"enter your name:\")\n",
    "print (name)"
   ]
  },
  {
   "cell_type": "code",
   "execution_count": 42,
   "id": "db721804",
   "metadata": {},
   "outputs": [
    {
     "name": "stdout",
     "output_type": "stream",
     "text": [
      "Hari\n"
     ]
    }
   ],
   "source": [
    "print(name)"
   ]
  },
  {
   "cell_type": "code",
   "execution_count": 44,
   "id": "978c9eca",
   "metadata": {},
   "outputs": [
    {
     "name": "stdout",
     "output_type": "stream",
     "text": [
      "murahari.chavali\n"
     ]
    }
   ],
   "source": [
    "print(name)"
   ]
  },
  {
   "cell_type": "code",
   "execution_count": 45,
   "id": "200b6787",
   "metadata": {},
   "outputs": [
    {
     "data": {
      "text/plain": [
       "'harihariharihari'"
      ]
     },
     "execution_count": 45,
     "metadata": {},
     "output_type": "execute_result"
    }
   ],
   "source": [
    "4*\"hari\"# string contentation"
   ]
  },
  {
   "cell_type": "code",
   "execution_count": 46,
   "id": "04c6e28a",
   "metadata": {},
   "outputs": [
    {
     "data": {
      "text/plain": [
       "'hari.chavali'"
      ]
     },
     "execution_count": 46,
     "metadata": {},
     "output_type": "execute_result"
    }
   ],
   "source": [
    "\"hari\"+\".chavali\""
   ]
  },
  {
   "cell_type": "code",
   "execution_count": 5,
   "id": "d2d9fe12",
   "metadata": {},
   "outputs": [
    {
     "name": "stdout",
     "output_type": "stream",
     "text": [
      "enter your number=22\n",
      "22\n"
     ]
    }
   ],
   "source": [
    "x=int(input(\"enter your number=\"))\n",
    "print(x)"
   ]
  },
  {
   "cell_type": "code",
   "execution_count": 3,
   "id": "06109d16",
   "metadata": {},
   "outputs": [
    {
     "name": "stdout",
     "output_type": "stream",
     "text": [
      "enter your number=200.32\n",
      "200.32\n"
     ]
    }
   ],
   "source": [
    "f=float(input(\"enter your number=\"))\n",
    "print(f)"
   ]
  },
  {
   "cell_type": "markdown",
   "id": "7d084694",
   "metadata": {},
   "source": [
    "#### type coversion\n",
    "- convaerting the type of data into another type\n",
    "  - 2 types\n",
    "    - implicit conversion \n",
    "      - automatic conversion\n",
    "    - explicit conversion\n",
    "      - user coversion\n",
    "      "
   ]
  },
  {
   "cell_type": "code",
   "execution_count": 1,
   "id": "99e79875",
   "metadata": {},
   "outputs": [
    {
     "name": "stdout",
     "output_type": "stream",
     "text": [
      "500.22\n"
     ]
    }
   ],
   "source": [
    "#implicit conversion\n",
    "first ,sec=50,450.22\n",
    "print(first+sec)"
   ]
  },
  {
   "cell_type": "code",
   "execution_count": 12,
   "id": "152dbd88",
   "metadata": {},
   "outputs": [
    {
     "name": "stdout",
     "output_type": "stream",
     "text": [
      "<class 'str'>\n",
      "5082\n"
     ]
    }
   ],
   "source": [
    "#explicit conversion\n",
    "st =\"12005421.22\"# string\n",
    "print(type(st))\n",
    "ss=int(ss)\n",
    "ss =2541\n",
    "print (ss+ss)"
   ]
  },
  {
   "cell_type": "code",
   "execution_count": null,
   "id": "dc4055fb",
   "metadata": {},
   "outputs": [],
   "source": []
  },
  {
   "cell_type": "code",
   "execution_count": null,
   "id": "55b7a09f",
   "metadata": {},
   "outputs": [],
   "source": []
  }
 ],
 "metadata": {
  "kernelspec": {
   "display_name": "Python 3",
   "language": "python",
   "name": "python3"
  },
  "language_info": {
   "codemirror_mode": {
    "name": "ipython",
    "version": 3
   },
   "file_extension": ".py",
   "mimetype": "text/x-python",
   "name": "python",
   "nbconvert_exporter": "python",
   "pygments_lexer": "ipython3",
   "version": "3.8.8"
  }
 },
 "nbformat": 4,
 "nbformat_minor": 5
}
