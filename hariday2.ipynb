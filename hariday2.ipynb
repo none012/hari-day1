{
 "cells": [
  {
   "cell_type": "markdown",
   "id": "996250a7",
   "metadata": {},
   "source": [
    "# Today Topics\n",
    " - identifiers\n",
    " - conditions \n",
    " - iterating statement\n",
    " - functons"
   ]
  },
  {
   "cell_type": "markdown",
   "id": "e0f63558",
   "metadata": {},
   "source": [
    "## Identitifer\n",
    "-  A name given to the variable\n",
    "- Naming convention"
   ]
  },
  {
   "cell_type": "code",
   "execution_count": 2,
   "id": "edbe1876",
   "metadata": {},
   "outputs": [],
   "source": [
    "first =10"
   ]
  },
  {
   "cell_type": "code",
   "execution_count": 3,
   "id": "fd757944",
   "metadata": {},
   "outputs": [
    {
     "data": {
      "text/plain": [
       "10"
      ]
     },
     "execution_count": 3,
     "metadata": {},
     "output_type": "execute_result"
    }
   ],
   "source": [
    "first"
   ]
  },
  {
   "cell_type": "code",
   "execution_count": null,
   "id": "5f194b18",
   "metadata": {},
   "outputs": [],
   "source": [
    "first_hari=222\n",
    "print =(first_hari)"
   ]
  },
  {
   "cell_type": "markdown",
   "id": "36130965",
   "metadata": {},
   "source": [
    "#### conditon statement\n",
    "- if \n",
    "   - **syntaX**\n",
    "     -IF CONDITION:\n",
    "       -STAEMENT GOES HERE\n",
    "- else\n",
    "   - condition can ignore here\n",
    "   - means if not possible ,then go for else\n",
    "   - ** syntax**\n",
    "     - else \n",
    "       -statement\n",
    "- elif\n",
    "   -"
   ]
  },
  {
   "cell_type": "code",
   "execution_count": 9,
   "id": "1f6cd414",
   "metadata": {},
   "outputs": [
    {
     "name": "stdout",
     "output_type": "stream",
     "text": [
      "enter a number=2\n",
      "your number is =  2\n",
      "it is a even\n"
     ]
    }
   ],
   "source": [
    "#python program to read a  number from and print if it is even\n",
    "a= int(input(\"enter a number=\"))\n",
    "print(\"your number is = \",a)\n",
    "\n",
    "if a%2==0:\n",
    "   print(\"it is a even\")"
   ]
  },
  {
   "cell_type": "code",
   "execution_count": 3,
   "id": "d0b2050a",
   "metadata": {},
   "outputs": [
    {
     "name": "stdout",
     "output_type": "stream",
     "text": [
      "enter a number=12\n",
      "your number is =  12\n",
      "it is a even\n"
     ]
    }
   ],
   "source": [
    "#python program to read a  number from and print if it is even OR odd\n",
    "a= int(input(\"enter a number=\"))\n",
    "print(\"your number is = \",a)\n",
    "\n",
    "if a%2==0:\n",
    "   print(\"it is a even\")\n",
    "else:\n",
    "    print ('it is odd')"
   ]
  },
  {
   "cell_type": "code",
   "execution_count": 15,
   "id": "e4548b05",
   "metadata": {},
   "outputs": [
    {
     "name": "stdout",
     "output_type": "stream",
     "text": [
      "enter a 1 number=10\n",
      "enter a 2  number=10\n",
      "enter a  3 number=10\n",
      "same\n"
     ]
    }
   ],
   "source": [
    "# program to check the larger number among three numbers\n",
    "a= int(input(\"enter a 1 number=\"))\n",
    "b= int(input(\"enter a 2  number=\"))\n",
    "c= int(input(\"enter a  3 number=\"))\n",
    "if a==b==c:\n",
    "    if a==0 and b==0 and c==0:\n",
    "        print (\"zeero\")\n",
    "    else:\n",
    "        print(\"same\")\n",
    "elif a>b and a>c:\n",
    "    print('a')\n",
    "elif b>a and b>c:\n",
    "    print(\"b\")\n",
    "else:\n",
    "    print(\"c\")"
   ]
  },
  {
   "cell_type": "markdown",
   "id": "a0436358",
   "metadata": {},
   "source": [
    "#### Nested if\n",
    " - if block eithin if condition"
   ]
  },
  {
   "cell_type": "markdown",
   "id": "b9ef4dd5",
   "metadata": {},
   "source": [
    "#### nested if\n",
    "- if block with in if condition\n",
    "- syntax\n",
    "   - if condition\n",
    "     - if conditon \n",
    "       - statement\n",
    "     - else\n",
    "        - statement\n",
    "   - else"
   ]
  },
  {
   "cell_type": "code",
   "execution_count": 13,
   "id": "eca572bc",
   "metadata": {},
   "outputs": [
    {
     "name": "stdout",
     "output_type": "stream",
     "text": [
      "0\n",
      "zero\n"
     ]
    }
   ],
   "source": [
    "# if n is +ve integer and multiple of 3 and 7 but not 5\n",
    "# then print yes\n",
    "x = int(input())\n",
    "if x>0:\n",
    "    if (x%3==0 and x%7==0) and x%5 !=0:\n",
    "        print(\"it is divided by 3 and 7\")\n",
    "elif x<0:\n",
    "    print (\"less than 0\")\n",
    "else:\n",
    "    print (\"zero\")\n"
   ]
  },
  {
   "cell_type": "code",
   "execution_count": 18,
   "id": "e836b810",
   "metadata": {},
   "outputs": [
    {
     "name": "stdout",
     "output_type": "stream",
     "text": [
      "enter ur yaer2000\n",
      "laep year\n"
     ]
    }
   ],
   "source": [
    "# check weather a number is leap year\n",
    "# all centeries are not leap years\n",
    "year=int(input(\"enter ur yaer\"))\n",
    "if (year%400==0) or (year%4==0 and year%100 !=0):\n",
    "    print(\"laep year\")\n",
    "else :\n",
    "    print (\"nota leap yaer\")"
   ]
  },
  {
   "cell_type": "markdown",
   "id": "5b2aac11",
   "metadata": {},
   "source": [
    "#### operators\n",
    "    - A thing which performs an operation between oerands\n",
    "      - Ex:a+b:\n",
    "          -a,b are operands +is the op's perform the **addition**\n",
    "    - types of operators\n",
    "      - arthematic\n",
    "         - -+*/,//,** %\n",
    "      - boolesan\n",
    "         - true/false\n",
    "      - logical \n",
    "         - and,or,not\n",
    "      - relationl/comparisional\n",
    "         - <,>,<=,>=,==,!=\n",
    "      - assignment\n",
    "         - -=, +=,/=,*=\n",
    "      - identity **for memory**\n",
    "         - is ,is not\n",
    "      - membership \n",
    "         - in,not,in\n",
    "         "
   ]
  },
  {
   "cell_type": "code",
   "execution_count": 20,
   "id": "60bc13e9",
   "metadata": {},
   "outputs": [
    {
     "name": "stdout",
     "output_type": "stream",
     "text": [
      "2366392890544\n",
      "2366392890608\n"
     ]
    }
   ],
   "source": [
    "#idenity operators \n",
    "a=\"kits 000\"\n",
    "b=\"kits 000\"\n",
    "print (id(a))\n",
    "print (id(b))"
   ]
  },
  {
   "cell_type": "code",
   "execution_count": 22,
   "id": "1a169873",
   "metadata": {},
   "outputs": [
    {
     "name": "stdout",
     "output_type": "stream",
     "text": [
      "True\n"
     ]
    }
   ],
   "source": [
    "# member op's\n",
    "name =\"hari\"\n",
    "print (\"a\"in name)"
   ]
  },
  {
   "cell_type": "code",
   "execution_count": 26,
   "id": "8161b9c9",
   "metadata": {},
   "outputs": [
    {
     "name": "stdout",
     "output_type": "stream",
     "text": [
      "40\n",
      "0\n"
     ]
    }
   ],
   "source": [
    "# ASSIGNMENT OP'S\n",
    "a=30\n",
    "a += 10 \n",
    "print(a)\n",
    "b=13\n",
    "b -= 13\n",
    "print(b)"
   ]
  },
  {
   "cell_type": "markdown",
   "id": "1c635a3b",
   "metadata": {},
   "source": [
    "#### lterating staements\n",
    "- iteration means repeation of statement\n",
    "- 2 types\n",
    "   - ** for and while**\n",
    "   - "
   ]
  },
  {
   "cell_type": "code",
   "execution_count": 27,
   "id": "9ec12b71",
   "metadata": {},
   "outputs": [
    {
     "name": "stdout",
     "output_type": "stream",
     "text": [
      "enter a number= 2\n",
      "1\n",
      "2\n",
      "3\n",
      "4\n",
      "5\n",
      "6\n",
      "7\n",
      "8\n",
      "9\n"
     ]
    }
   ],
   "source": [
    "#printing the numbers for 1 to 10\n",
    "a= int(input(\"enter a number= \"))\n",
    "for a in range(1,10):\n",
    "    print (a)"
   ]
  },
  {
   "cell_type": "code",
   "execution_count": 34,
   "id": "3391387d",
   "metadata": {},
   "outputs": [
    {
     "name": "stdout",
     "output_type": "stream",
     "text": [
      "20 23 26 29 32 35 38 41 44 47 "
     ]
    }
   ],
   "source": [
    "# icrement\n",
    "for num in range(20,50,3):\n",
    "     print(num,end=\" \")"
   ]
  },
  {
   "cell_type": "code",
   "execution_count": 37,
   "id": "155be13c",
   "metadata": {
    "scrolled": true
   },
   "outputs": [
    {
     "name": "stdout",
     "output_type": "stream",
     "text": [
      "100,97,94,91,88,85,82,79,76,73,70,67,64,61,58,55,52,49,46,43,40,37,34,31,28,25,22,19,16,13,"
     ]
    }
   ],
   "source": [
    "# decrement \n",
    "for num in range(100,10,-3):\n",
    "     print(num,end=\",\")"
   ]
  },
  {
   "cell_type": "code",
   "execution_count": 38,
   "id": "4c85d8cf",
   "metadata": {},
   "outputs": [
    {
     "name": "stdout",
     "output_type": "stream",
     "text": [
      "0\n",
      "1\n",
      "2\n",
      "3\n",
      "4\n",
      "5\n",
      "6\n",
      "7\n",
      "8\n",
      "9\n"
     ]
    }
   ],
   "source": [
    "# ending value\n",
    "for i in range(10):\n",
    "    print(i)\n",
    "  "
   ]
  },
  {
   "cell_type": "code",
   "execution_count": 39,
   "id": "6a0dad99",
   "metadata": {},
   "outputs": [
    {
     "name": "stdout",
     "output_type": "stream",
     "text": [
      "k''k''r''&''k''s''r''"
     ]
    }
   ],
   "source": [
    "for ch in \"kkr&ksr\":\n",
    "    print(ch,end=\"''\")"
   ]
  },
  {
   "cell_type": "code",
   "execution_count": 46,
   "id": "d6b5560e",
   "metadata": {},
   "outputs": [
    {
     "name": "stdout",
     "output_type": "stream",
     "text": [
      "0=k\n",
      "1=k\n",
      "2=r\n",
      "3=&\n",
      "4=k\n",
      "5=s\n",
      "6=r\n"
     ]
    }
   ],
   "source": [
    "clg =\"kkr&ksr\"\n",
    "for i in range(len(clg)):\n",
    "    print(i,clg[i],sep=\"=\")"
   ]
  },
  {
   "cell_type": "code",
   "execution_count": 54,
   "id": "56b46edb",
   "metadata": {},
   "outputs": [
    {
     "name": "stdout",
     "output_type": "stream",
     "text": [
      "enter start =2000\n",
      "end year=2010\n",
      "laep year 2000\n",
      "not a leap year 2001\n",
      "not a leap year 2002\n",
      "not a leap year 2003\n",
      "laep year 2004\n",
      "not a leap year 2005\n",
      "not a leap year 2006\n",
      "not a leap year 2007\n",
      "laep year 2008\n",
      "not a leap year 2009\n"
     ]
    }
   ],
   "source": [
    "#program to print leap uyear\n",
    "#present betweem 2000 to 2030\n",
    "x =int(input(\"enter start =\"))\n",
    "y =int(input(\"end year=\"))\n",
    "for i in range(x,y):\n",
    "    if (i%400==0) or (i%4==0 and i%100 !=0):\n",
    "        print(\"laep year\",i)\n",
    "    else:\n",
    "        print(\"not a leap year\",i)"
   ]
  },
  {
   "cell_type": "code",
   "execution_count": 55,
   "id": "af34a2c8",
   "metadata": {},
   "outputs": [
    {
     "name": "stdout",
     "output_type": "stream",
     "text": [
      "enter start =2000\n",
      "end year=2030\n",
      "laep year 2000\n",
      "laep year 2004\n",
      "laep year 2008\n",
      "laep year 2012\n",
      "laep year 2016\n",
      "laep year 2020\n",
      "laep year 2024\n",
      "laep year 2028\n"
     ]
    }
   ],
   "source": [
    "#program to print leap uyear\n",
    "#present betweem 2000 to 2030\n",
    "x =int(input(\"enter start =\"))\n",
    "y =int(input(\"end year=\"))\n",
    "for i in range(x,y):\n",
    "    if (i%400==0) or (i%4==0 and i%100 !=0):\n",
    "        print(\"laep year\",i)"
   ]
  },
  {
   "cell_type": "code",
   "execution_count": null,
   "id": "6bbd5701",
   "metadata": {},
   "outputs": [],
   "source": [
    "# number of factors\n",
    "n=int(input(\"enter the number=\"))\n",
    "for i in range(1,n+1):\n",
    "    if (n%i==0):\n",
    "        print(i,end=\",\")"
   ]
  },
  {
   "cell_type": "code",
   "execution_count": 29,
   "id": "c23befee",
   "metadata": {},
   "outputs": [
    {
     "name": "stdout",
     "output_type": "stream",
     "text": [
      "enter a  number13\n",
      "prime\n"
     ]
    }
   ],
   "source": [
    "# A NUMBER is prime or not\n",
    "num = int(input(\"enter a  number\"))\n",
    "for i in range(2,num+1):\n",
    "    if(num%i==0):#12\n",
    "        if( i==num):\n",
    "            print(\"prime\")\n",
    "        else:\n",
    "            print(\"not a prime\")\n",
    "        break\n",
    "        \n",
    "        \n",
    "        "
   ]
  },
  {
   "cell_type": "code",
   "execution_count": 39,
   "id": "92ec8ed7",
   "metadata": {},
   "outputs": [
    {
     "name": "stdout",
     "output_type": "stream",
     "text": [
      "enter a number=12\n",
      "prime 1\n",
      "not prime\n",
      "not prime\n",
      "not prime\n",
      "not prime\n",
      "not prime\n",
      "not prime\n",
      "not prime\n",
      "not prime\n",
      "not prime\n",
      "not prime\n"
     ]
    }
   ],
   "source": [
    "# program to check weather the given no is prime or not\n",
    "pr=int(input(\"enter a number=\"))\n",
    "factor =0\n",
    "for num in range(2,pr+1):\n",
    "    if pr%num ==0:\n",
    "        factor +=1\n",
    "        \n",
    "    "
   ]
  },
  {
   "cell_type": "code",
   "execution_count": 2,
   "id": "b798fca8",
   "metadata": {},
   "outputs": [
    {
     "name": "stdout",
     "output_type": "stream",
     "text": [
      "prime 2\n",
      "prime 3\n",
      "prime 4\n",
      "prime 5\n",
      "prime 6\n",
      "prime 7\n",
      "prime 8\n",
      "prime 9\n",
      "prime 10\n",
      "prime 11\n",
      "prime 12\n",
      "prime 13\n",
      "prime 14\n",
      "prime 15\n",
      "prime 16\n",
      "prime 17\n",
      "prime 18\n",
      "prime 19\n",
      "prime 20\n",
      "prime 21\n",
      "prime 22\n",
      "prime 23\n",
      "prime 24\n",
      "prime 25\n",
      "prime 26\n",
      "prime 27\n",
      "prime 28\n",
      "prime 29\n",
      "prime 30\n",
      "prime 31\n",
      "prime 32\n",
      "prime 33\n",
      "prime 34\n",
      "prime 35\n",
      "prime 36\n",
      "prime 37\n",
      "prime 38\n",
      "prime 39\n",
      "prime 40\n",
      "prime 41\n",
      "prime 42\n",
      "prime 43\n",
      "prime 44\n",
      "prime 45\n",
      "prime 46\n",
      "prime 47\n",
      "prime 48\n",
      "prime 49\n",
      "prime 50\n",
      "prime 51\n",
      "prime 52\n",
      "prime 53\n",
      "prime 54\n",
      "prime 55\n",
      "prime 56\n",
      "prime 57\n",
      "prime 58\n",
      "prime 59\n",
      "prime 60\n",
      "prime 61\n",
      "prime 62\n",
      "prime 63\n",
      "prime 64\n",
      "prime 65\n",
      "prime 66\n",
      "prime 67\n",
      "prime 68\n",
      "prime 69\n",
      "prime 70\n",
      "prime 71\n",
      "prime 72\n",
      "prime 73\n",
      "prime 74\n",
      "prime 75\n",
      "prime 76\n",
      "prime 77\n",
      "prime 78\n",
      "prime 79\n",
      "prime 80\n",
      "prime 81\n",
      "prime 82\n",
      "prime 83\n",
      "prime 84\n",
      "prime 85\n",
      "prime 86\n",
      "prime 87\n",
      "prime 88\n",
      "prime 89\n",
      "prime 90\n",
      "prime 91\n",
      "prime 92\n",
      "prime 93\n",
      "prime 94\n",
      "prime 95\n",
      "prime 96\n",
      "prime 97\n",
      "prime 98\n",
      "prime 99\n"
     ]
    }
   ],
   "source": [
    "# list of prime number\n",
    "for num in range(2,100):\n",
    "    for i in range(2,num+1):\n",
    "        if(num%i==0):#12\n",
    "            if( i==num):\n",
    "                print(\"prime\",i)\n",
    "            else:\n",
    "                continue\n",
    "               \n",
    "        "
   ]
  },
  {
   "cell_type": "markdown",
   "id": "ffa22ab1",
   "metadata": {},
   "source": [
    "#### while loop\n",
    "- It is a condition based iteration\n",
    "- user incrementation\n",
    "- **syntax**\n",
    "  - while condition\n",
    "     - staement goes here"
   ]
  },
  {
   "cell_type": "code",
   "execution_count": 45,
   "id": "878c90f3",
   "metadata": {},
   "outputs": [
    {
     "name": "stdout",
     "output_type": "stream",
     "text": [
      "enter number=10\n",
      "1 ,2 ,3 ,4 ,5 ,6 ,7 ,8 ,9 ,10 ,"
     ]
    }
   ],
   "source": [
    "# print the numbers in a range using while loop\n",
    "num=1\n",
    "n=int(input(\"enter number=\"))\n",
    "while num<=n:\n",
    "    print(num,end=\" ,\")\n",
    "    num+=1"
   ]
  },
  {
   "cell_type": "markdown",
   "id": "2a4b0ad5",
   "metadata": {},
   "source": [
    "#### strings\n",
    "- combination of character\n",
    "positive indexing\n",
    "negitive indexing\n"
   ]
  },
  {
   "cell_type": "code",
   "execution_count": 48,
   "id": "42c67f2e",
   "metadata": {},
   "outputs": [
    {
     "data": {
      "text/plain": [
       "str"
      ]
     },
     "execution_count": 48,
     "metadata": {},
     "output_type": "execute_result"
    }
   ],
   "source": [
    "s=\"\"\n",
    "type(s)"
   ]
  },
  {
   "cell_type": "code",
   "execution_count": 57,
   "id": "0e8aaa5f",
   "metadata": {},
   "outputs": [
    {
     "name": "stdout",
     "output_type": "stream",
     "text": [
      "s\n",
      "kits\n",
      "suh\n",
      "\n",
      "iraharum \n",
      "iraharum stik\n"
     ]
    }
   ],
   "source": [
    "s =\"kits murahari\"\n",
    "print(s[3])     \n",
    "print(s[:4])     \n",
    "print(s[3:10:3])\n",
    "print(s[-1:-10:11])# empty string  \n",
    "print(s[-1:-10:-1])\n",
    "print(s[::-1]) "
   ]
  },
  {
   "cell_type": "code",
   "execution_count": 61,
   "id": "f596a1b0",
   "metadata": {},
   "outputs": [
    {
     "name": "stdout",
     "output_type": "stream",
     "text": [
      "enter a name =101\n",
      "palandrom\n"
     ]
    }
   ],
   "source": [
    "s =input(\"enter a name =\")\n",
    "if s==s[::-1]:\n",
    "    print(\"palandrom\")\n",
    "else:\n",
    "    print (\"no\")"
   ]
  },
  {
   "cell_type": "code",
   "execution_count": 63,
   "id": "9d735f17",
   "metadata": {},
   "outputs": [
    {
     "name": "stdout",
     "output_type": "stream",
     "text": [
      "enter a name =miuyarauh\n",
      "4.5\n"
     ]
    }
   ],
   "source": [
    "s =input(\"enter a name =\")\n",
    "x=len(s)\n",
    "if x%2==0:\n",
    "    print(s[])\n",
    "\n"
   ]
  },
  {
   "cell_type": "code",
   "execution_count": 6,
   "id": "2ec4e900",
   "metadata": {},
   "outputs": [
    {
     "name": "stdout",
     "output_type": "stream",
     "text": [
      "1\n",
      "2\n",
      "3\n"
     ]
    }
   ],
   "source": [
    "n = \"kits 123\"\n",
    "for i in n:\n",
    "    if i==\"1\":\n",
    "        print(i)\n",
    "    elif i==\"2\":\n",
    "        print(i)\n",
    "    elif i==\"3\":\n",
    "        print(i)\n",
    "        "
   ]
  },
  {
   "cell_type": "code",
   "execution_count": 8,
   "id": "f05cd212",
   "metadata": {},
   "outputs": [
    {
     "name": "stdout",
     "output_type": "stream",
     "text": [
      "1\n",
      "2\n",
      "3\n"
     ]
    }
   ],
   "source": [
    "for i in n:\n",
    "    if i.isdigit():\n",
    "        print(i)"
   ]
  },
  {
   "cell_type": "code",
   "execution_count": 9,
   "id": "a98742df",
   "metadata": {},
   "outputs": [
    {
     "name": "stdout",
     "output_type": "stream",
     "text": [
      "['__add__', '__class__', '__contains__', '__delattr__', '__dir__', '__doc__', '__eq__', '__format__', '__ge__', '__getattribute__', '__getitem__', '__getnewargs__', '__gt__', '__hash__', '__init__', '__init_subclass__', '__iter__', '__le__', '__len__', '__lt__', '__mod__', '__mul__', '__ne__', '__new__', '__reduce__', '__reduce_ex__', '__repr__', '__rmod__', '__rmul__', '__setattr__', '__sizeof__', '__str__', '__subclasshook__', 'capitalize', 'casefold', 'center', 'count', 'encode', 'endswith', 'expandtabs', 'find', 'format', 'format_map', 'index', 'isalnum', 'isalpha', 'isascii', 'isdecimal', 'isdigit', 'isidentifier', 'islower', 'isnumeric', 'isprintable', 'isspace', 'istitle', 'isupper', 'join', 'ljust', 'lower', 'lstrip', 'maketrans', 'partition', 'replace', 'rfind', 'rindex', 'rjust', 'rpartition', 'rsplit', 'rstrip', 'split', 'splitlines', 'startswith', 'strip', 'swapcase', 'title', 'translate', 'upper', 'zfill']\n"
     ]
    }
   ],
   "source": [
    "print(dir(str))"
   ]
  },
  {
   "cell_type": "code",
   "execution_count": 16,
   "id": "49b61135",
   "metadata": {},
   "outputs": [
    {
     "data": {
      "text/plain": [
       "'kits'"
      ]
     },
     "execution_count": 16,
     "metadata": {},
     "output_type": "execute_result"
    }
   ],
   "source": [
    "c=\"KiTS\"\n",
    "c.lower()\n"
   ]
  },
  {
   "cell_type": "code",
   "execution_count": 11,
   "id": "c8805ea1",
   "metadata": {},
   "outputs": [
    {
     "data": {
      "text/plain": [
       "'kits'"
      ]
     },
     "execution_count": 11,
     "metadata": {},
     "output_type": "execute_result"
    }
   ],
   "source": [
    "c.casefold()"
   ]
  },
  {
   "cell_type": "code",
   "execution_count": 14,
   "id": "611d6728",
   "metadata": {},
   "outputs": [
    {
     "data": {
      "text/plain": [
       "'KITS'"
      ]
     },
     "execution_count": 14,
     "metadata": {},
     "output_type": "execute_result"
    }
   ],
   "source": [
    "c.upper()"
   ]
  },
  {
   "cell_type": "code",
   "execution_count": 15,
   "id": "3b426bcd",
   "metadata": {},
   "outputs": [
    {
     "data": {
      "text/plain": [
       "'kits'"
      ]
     },
     "execution_count": 15,
     "metadata": {},
     "output_type": "execute_result"
    }
   ],
   "source": [
    "c.swapcase()"
   ]
  },
  {
   "cell_type": "code",
   "execution_count": 17,
   "id": "6f63b10e",
   "metadata": {},
   "outputs": [],
   "source": [
    "s= \"kits @ COLLAGE\"\n"
   ]
  },
  {
   "cell_type": "code",
   "execution_count": 20,
   "id": "383a3db9",
   "metadata": {},
   "outputs": [
    {
     "name": "stdout",
     "output_type": "stream",
     "text": [
      "kits"
     ]
    }
   ],
   "source": [
    "for i  in s:\n",
    "    if i.islower():\n",
    "        print(i,end=\"\")"
   ]
  },
  {
   "cell_type": "code",
   "execution_count": 23,
   "id": "d70bc2d7",
   "metadata": {},
   "outputs": [],
   "source": [
    "p=s+\"12121000\""
   ]
  },
  {
   "cell_type": "code",
   "execution_count": 22,
   "id": "3790fa7c",
   "metadata": {},
   "outputs": [
    {
     "data": {
      "text/plain": [
       "'kits @ COLLAGE'"
      ]
     },
     "execution_count": 22,
     "metadata": {},
     "output_type": "execute_result"
    }
   ],
   "source": [
    "s"
   ]
  },
  {
   "cell_type": "code",
   "execution_count": 25,
   "id": "57505616",
   "metadata": {},
   "outputs": [
    {
     "name": "stdout",
     "output_type": "stream",
     "text": [
      "25000jhgfdsas\n",
      "['25000jhgfdsas']\n"
     ]
    }
   ],
   "source": [
    "st=input().split( )# llist o f chararacters\n",
    "print(st)"
   ]
  },
  {
   "cell_type": "code",
   "execution_count": null,
   "id": "f0153c40",
   "metadata": {},
   "outputs": [],
   "source": [
    "st=input()\n",
    "print(s)"
   ]
  },
  {
   "cell_type": "code",
   "execution_count": null,
   "id": "fc055279",
   "metadata": {},
   "outputs": [],
   "source": [
    "s.isdigit()"
   ]
  },
  {
   "cell_type": "code",
   "execution_count": 2,
   "id": "afd1bfa0",
   "metadata": {},
   "outputs": [
    {
     "name": "stdout",
     "output_type": "stream",
     "text": [
      "lkkdsnhjjsjnb a\n",
      "consonant\n"
     ]
    }
   ],
   "source": [
    "vowels=\"aeiouAEIOU\"\n",
    "char=input()\n",
    "if char in vowels:\n",
    "    print(\"vowel\")\n",
    "else:\n",
    "    print(\"consonant\")"
   ]
  },
  {
   "cell_type": "code",
   "execution_count": null,
   "id": "ccbabca9",
   "metadata": {},
   "outputs": [],
   "source": []
  },
  {
   "cell_type": "code",
   "execution_count": null,
   "id": "81734637",
   "metadata": {},
   "outputs": [],
   "source": []
  }
 ],
 "metadata": {
  "kernelspec": {
   "display_name": "Python 3",
   "language": "python",
   "name": "python3"
  },
  "language_info": {
   "codemirror_mode": {
    "name": "ipython",
    "version": 3
   },
   "file_extension": ".py",
   "mimetype": "text/x-python",
   "name": "python",
   "nbconvert_exporter": "python",
   "pygments_lexer": "ipython3",
   "version": "3.8.8"
  }
 },
 "nbformat": 4,
 "nbformat_minor": 5
}
