{
 "cells": [
  {
   "cell_type": "markdown",
   "id": "b4959668",
   "metadata": {},
   "source": [
    "### Today topics\n",
    " - File handiling\n",
    " - Functional Programming"
   ]
  },
  {
   "cell_type": "code",
   "execution_count": null,
   "id": "5b9acdcd",
   "metadata": {},
   "outputs": [],
   "source": []
  },
  {
   "cell_type": "markdown",
   "id": "be91522e",
   "metadata": {},
   "source": [
    "#### File \n",
    "- A physical thing that has the pysical existance and meaningful information\n",
    "- Types of files\n",
    "    - .mp3,.mp4,.jpg,.txt,.doc,.pdf,.xls,.py,.cet\n",
    "- File operation\n",
    "   - **open**\n",
    "     - opens the file in the mode we mention\n",
    "   - **read** \n",
    "     - \n",
    "   - **write**\n",
    "   - **write**\n",
    "   - **append**\n",
    "   - **close** \n",
    "  - file creation can do in 2 ways\n",
    "   - manually and by using write() op'r"
   ]
  },
  {
   "cell_type": "markdown",
   "id": "1855e491",
   "metadata": {},
   "source": [
    "### opening the file\n",
    "- var=open(file_name,mode)"
   ]
  },
  {
   "cell_type": "code",
   "execution_count": 11,
   "id": "baf633f2",
   "metadata": {},
   "outputs": [
    {
     "name": "stdout",
     "output_type": "stream",
     "text": [
      "Hi my self murahari.chavali from kkkr&ksr institute of technolgy 3rd year \n",
      "my roll no : 20JR5A0207\n",
      "\n"
     ]
    }
   ],
   "source": [
    "data=open(\"hari_first.txt\",'r')\n",
    "rl=data.read()\n",
    "print(rl)"
   ]
  },
  {
   "cell_type": "code",
   "execution_count": 6,
   "id": "9556cf6b",
   "metadata": {},
   "outputs": [
    {
     "name": "stdout",
     "output_type": "stream",
     "text": [
      "Hi my self murahari.chavali from kkkr&ksr institute of technolgy 3rd year \n",
      "my roll no : 20JR5A0207\n",
      "\n"
     ]
    }
   ],
   "source": [
    "with open(\"hari_first.txt\",\"r\")as f:\n",
    "    f=f.read()\n",
    "print(f)\n",
    "f.close(f)"
   ]
  },
  {
   "cell_type": "code",
   "execution_count": 7,
   "id": "d271716a",
   "metadata": {},
   "outputs": [
    {
     "data": {
      "text/plain": [
       "str"
      ]
     },
     "execution_count": 7,
     "metadata": {},
     "output_type": "execute_result"
    }
   ],
   "source": [
    "type(f)"
   ]
  },
  {
   "cell_type": "code",
   "execution_count": 8,
   "id": "04582b6a",
   "metadata": {},
   "outputs": [
    {
     "data": {
      "text/plain": [
       "_io.TextIOWrapper"
      ]
     },
     "execution_count": 8,
     "metadata": {},
     "output_type": "execute_result"
    }
   ],
   "source": [
    "type(data)"
   ]
  },
  {
   "cell_type": "code",
   "execution_count": 17,
   "id": "a18aab62",
   "metadata": {
    "scrolled": true
   },
   "outputs": [
    {
     "name": "stdout",
     "output_type": "stream",
     "text": [
      "Hi my self murahari.chavali from kkkr&ksr institute of technolgy 3rd year \n",
      " my roll no : 20JR5A0207\n",
      " new world "
     ]
    }
   ],
   "source": [
    "for i in rl:\n",
    "    print(i,end=\" \")"
   ]
  },
  {
   "cell_type": "code",
   "execution_count": 20,
   "id": "51f4a3f1",
   "metadata": {},
   "outputs": [
    {
     "name": "stdout",
     "output_type": "stream",
     "text": [
      "['Hi my self murahari.chavali from kkkr&ksr institute of technolgy 3rd year \\n', 'my roll no : 20JR5A0207\\n', 'new world']\n"
     ]
    }
   ],
   "source": [
    "l1=[]\n",
    "for i in rl:\n",
    "    l1.append(i)\n",
    "print(l1)\n"
   ]
  },
  {
   "cell_type": "code",
   "execution_count": 13,
   "id": "dff7f538",
   "metadata": {},
   "outputs": [
    {
     "name": "stdout",
     "output_type": "stream",
     "text": [
      "['Hi my self murahari.chavali from kkkr&ksr institute of technolgy 3rd year \\n', 'my roll no : 20JR5A0207\\n']\n"
     ]
    }
   ],
   "source": [
    "data=open(\"hari_first.txt\",'r')\n",
    "rl=data.readlines()\n",
    "print(rl)"
   ]
  },
  {
   "cell_type": "code",
   "execution_count": 14,
   "id": "a1d351c2",
   "metadata": {},
   "outputs": [
    {
     "data": {
      "text/plain": [
       "list"
      ]
     },
     "execution_count": 14,
     "metadata": {},
     "output_type": "execute_result"
    }
   ],
   "source": [
    "type(rl)"
   ]
  },
  {
   "cell_type": "code",
   "execution_count": 15,
   "id": "b9f23d1f",
   "metadata": {},
   "outputs": [],
   "source": [
    "rl.append(\"new world\")"
   ]
  },
  {
   "cell_type": "code",
   "execution_count": 21,
   "id": "7449d4c8",
   "metadata": {},
   "outputs": [
    {
     "name": "stdout",
     "output_type": "stream",
     "text": [
      "['Hi my self murahari.chavali from kkkr&ksr institute of technolgy 3rd year \\n', 'my roll no : 20JR5A0207\\n', 'new world']\n"
     ]
    }
   ],
   "source": [
    "print(rl)"
   ]
  },
  {
   "cell_type": "markdown",
   "id": "6f8479b7",
   "metadata": {},
   "source": [
    "#### write\n",
    "- overwrite\n",
    "- file .open (\"filename\",\"w\")\n",
    "   - file.write()"
   ]
  },
  {
   "cell_type": "code",
   "execution_count": 31,
   "id": "5f52394e",
   "metadata": {},
   "outputs": [],
   "source": [
    "w=open(\"hari_first.txt\",\"w\")\n",
    "w=w.write(\"python tutorial\")\n",
    "\n"
   ]
  },
  {
   "cell_type": "code",
   "execution_count": 77,
   "id": "5dbad03b",
   "metadata": {},
   "outputs": [
    {
     "ename": "SyntaxError",
     "evalue": "invalid syntax (<ipython-input-77-1267f1ff7013>, line 2)",
     "output_type": "error",
     "traceback": [
      "\u001b[1;36m  File \u001b[1;32m\"<ipython-input-77-1267f1ff7013>\"\u001b[1;36m, line \u001b[1;32m2\u001b[0m\n\u001b[1;33m    pgm=n.write(welcome to party\"))\u001b[0m\n\u001b[1;37m                        ^\u001b[0m\n\u001b[1;31mSyntaxError\u001b[0m\u001b[1;31m:\u001b[0m invalid syntax\n"
     ]
    }
   ],
   "source": [
    "n=open(\"new.py\",'w')\n",
    "pgm=n.write(welcome to party\"))"
   ]
  },
  {
   "cell_type": "markdown",
   "id": "36accdf1",
   "metadata": {},
   "source": [
    "#### append mode()\n",
    "- which adds content into the file\n",
    "- **syntax** \n",
    "   - open(filename,a)\n",
    "     - file.write()\n",
    "     "
   ]
  },
  {
   "cell_type": "code",
   "execution_count": 79,
   "id": "27b6f3ce",
   "metadata": {},
   "outputs": [],
   "source": [
    "with open(\"new.py\",\"a\")as p:\n",
    "    con=p.write(\"\\nprint(90000 - 5000 =13000)\\nprint('i am hari')\")"
   ]
  },
  {
   "cell_type": "code",
   "execution_count": 78,
   "id": "d332f312",
   "metadata": {},
   "outputs": [
    {
     "name": "stdout",
     "output_type": "stream",
     "text": [
      "welcome to party\n"
     ]
    }
   ],
   "source": [
    "pr=open(\"new.py\",'r')\n",
    "print(pr.read())"
   ]
  },
  {
   "cell_type": "code",
   "execution_count": 56,
   "id": "cbd3e680",
   "metadata": {},
   "outputs": [],
   "source": [
    "# wite a program to count,no of word,no of word,.,no of lines,no of special\n",
    "data=open(\"new.py\",'r')\n",
    "pr=data.readlines()"
   ]
  },
  {
   "cell_type": "code",
   "execution_count": 57,
   "id": "3d491bcb",
   "metadata": {},
   "outputs": [
    {
     "name": "stdout",
     "output_type": "stream",
     "text": [
      "['welcome to partyprint(90000 - 5000 =13000)\\n', \"print('i am hari')\\n\", 'print(90000 - 5000 =13000)\\n', \"print('i am hari')\"]\n"
     ]
    }
   ],
   "source": [
    "print(pr)"
   ]
  },
  {
   "cell_type": "code",
   "execution_count": 80,
   "id": "cff810b8",
   "metadata": {},
   "outputs": [
    {
     "name": "stdout",
     "output_type": "stream",
     "text": [
      "2 7 14 31 8\n"
     ]
    }
   ],
   "source": [
    "#data=open(\"new.py\",'r')\n",
    "info=open(\"new.py\",'r')\n",
    "pr=data.readlines()\n",
    "pr=info.read()\n",
    "chu=ic=wc=spc=no=0\n",
    "for each in pr:\n",
    "    if each==\"\\n\":\n",
    "        chu+=1\n",
    "    elif each==\" \":\n",
    "        ic+=1\n",
    "    elif each.isdigit():\n",
    "        wc+=1\n",
    "    elif each.isalpha():\n",
    "        spc+=1\n",
    "    else:\n",
    "        no+=1\n",
    "print(chu,ic,wc,spc,no)\n",
    "        "
   ]
  },
  {
   "cell_type": "markdown",
   "id": "c2af33fc",
   "metadata": {},
   "source": [
    "#### Comprehension \n",
    "- List and dict\n",
    "- Reduction of code into less no.of lines\n",
    "- **Syntax**\n",
    "  - [ output input sequence condition check ]"
   ]
  },
  {
   "cell_type": "code",
   "execution_count": 86,
   "id": "c1a1ac75",
   "metadata": {
    "scrolled": true
   },
   "outputs": [
    {
     "name": "stdout",
     "output_type": "stream",
     "text": [
      "enter the number=9\n",
      "9 * 1 = 9\n",
      "9 * 2 = 18\n",
      "9 * 3 = 27\n",
      "9 * 4 = 36\n",
      "9 * 5 = 45\n",
      "9 * 6 = 54\n",
      "9 * 7 = 63\n",
      "9 * 8 = 72\n",
      "9 * 9 = 81\n",
      "9 * 10 = 90\n",
      "9 * 11 = 99\n",
      "9 * 12 = 108\n",
      "9 * 13 = 117\n",
      "9 * 14 = 126\n",
      "9 * 15 = 135\n",
      "9 * 16 = 144\n",
      "9 * 17 = 153\n",
      "9 * 18 = 162\n",
      "9 * 19 = 171\n",
      "9 * 20 = 180\n"
     ]
    }
   ],
   "source": [
    "# write  a program to print nth multiplication table\n",
    "n=int(input(\"enter the number=\"))\n",
    "l=[]\n",
    "for i in range(1,21):\n",
    "    m=i*n\n",
    "    l.append(m)\n",
    "    print(n,\"*\",i,\"=\",m)"
   ]
  },
  {
   "cell_type": "code",
   "execution_count": 89,
   "id": "d8e3ebf0",
   "metadata": {},
   "outputs": [
    {
     "name": "stdout",
     "output_type": "stream",
     "text": [
      "[9, 18, 27, 36, 45, 54, 63, 72, 81, 90, 99, 108, 117, 126, 135, 144, 153, 162, 171, 180]\n"
     ]
    }
   ],
   "source": [
    "print(l)"
   ]
  },
  {
   "cell_type": "code",
   "execution_count": 90,
   "id": "0329153b",
   "metadata": {
    "scrolled": true
   },
   "outputs": [
    {
     "name": "stdout",
     "output_type": "stream",
     "text": [
      "20 x 1 = 20\n",
      "20 x 2 = 40\n",
      "20 x 3 = 60\n",
      "20 x 4 = 80\n",
      "20 x 5 = 100\n",
      "20 x 6 = 120\n",
      "20 x 7 = 140\n",
      "20 x 8 = 160\n",
      "20 x 9 = 180\n",
      "20 x 10 = 200\n",
      "20 x 11 = 220\n",
      "20 x 12 = 240\n",
      "20 x 13 = 260\n",
      "20 x 14 = 280\n",
      "20 x 15 = 300\n",
      "20 x 16 = 320\n",
      "20 x 17 = 340\n",
      "20 x 18 = 360\n",
      "20 x 19 = 380\n",
      "20 x 20 = 400\n"
     ]
    }
   ],
   "source": [
    "li=[print(20,'x',num,'=',20*num)for num in range(1,21)]"
   ]
  },
  {
   "cell_type": "code",
   "execution_count": 1,
   "id": "2cbf2b4a",
   "metadata": {
    "scrolled": true
   },
   "outputs": [
    {
     "name": "stdout",
     "output_type": "stream",
     "text": [
      "enter number9\n",
      "9 x 1 = 9\n",
      "9 x 2 = 18\n",
      "9 x 3 = 27\n",
      "9 x 4 = 36\n",
      "9 x 5 = 45\n",
      "9 x 6 = 54\n",
      "9 x 7 = 63\n",
      "9 x 8 = 72\n",
      "9 x 9 = 81\n",
      "9 x 10 = 90\n",
      "9 x 11 = 99\n",
      "9 x 12 = 108\n",
      "9 x 13 = 117\n",
      "9 x 14 = 126\n",
      "9 x 15 = 135\n",
      "9 x 16 = 144\n",
      "9 x 17 = 153\n",
      "9 x 18 = 162\n",
      "9 x 19 = 171\n",
      "9 x 20 = 180\n"
     ]
    }
   ],
   "source": [
    "x=int(input(\"enter number\"))\n",
    "li=[print(x,'x',num,'=',x*num)for num in range(1,21)]"
   ]
  },
  {
   "cell_type": "code",
   "execution_count": 4,
   "id": "7a27a583",
   "metadata": {
    "scrolled": true
   },
   "outputs": [
    {
     "name": "stdout",
     "output_type": "stream",
     "text": [
      "enter number2\n",
      "enter start of table20\n",
      "end of numbr40\n",
      "2 x 20 = 40\n",
      "2 x 21 = 42\n",
      "2 x 22 = 44\n",
      "2 x 23 = 46\n",
      "2 x 24 = 48\n",
      "2 x 25 = 50\n",
      "2 x 26 = 52\n",
      "2 x 27 = 54\n",
      "2 x 28 = 56\n",
      "2 x 29 = 58\n",
      "2 x 30 = 60\n",
      "2 x 31 = 62\n",
      "2 x 32 = 64\n",
      "2 x 33 = 66\n",
      "2 x 34 = 68\n",
      "2 x 35 = 70\n",
      "2 x 36 = 72\n",
      "2 x 37 = 74\n",
      "2 x 38 = 76\n",
      "2 x 39 = 78\n",
      "2 x 40 = 80\n"
     ]
    }
   ],
   "source": [
    "x=int(input(\"enter number\"))\n",
    "li=[print(x,'x',num,'=',x*num)for num in range(int(input(\"enter start of table\")),(int(input(\"end of numbr\"))+1))]"
   ]
  },
  {
   "cell_type": "code",
   "execution_count": 7,
   "id": "331e5f73",
   "metadata": {},
   "outputs": [
    {
     "name": "stdout",
     "output_type": "stream",
     "text": [
      "enter the string=bhgytrfdsaqw\n",
      "['g', 'y', 's', 'a', 'q', 'w']\n"
     ]
    }
   ],
   "source": [
    "#read a string from user and prepare a list of chars \n",
    "# whose ascii value is odd\n",
    "n=input(\"enter the string=\")\n",
    "l=[]\n",
    "for i in n:\n",
    "    if ord(i)%2==1:\n",
    "        l.append(i) \n",
    "print(l)\n",
    "    "
   ]
  },
  {
   "cell_type": "code",
   "execution_count": 14,
   "id": "a7a8702c",
   "metadata": {
    "collapsed": true
   },
   "outputs": [
    {
     "data": {
      "text/plain": [
       "'5'"
      ]
     },
     "execution_count": 14,
     "metadata": {},
     "output_type": "execute_result"
    }
   ],
   "source": [
    "ord(\"Z\")# to find ascii number in 127\n",
    "chr(53)# to find ascii in value\n"
   ]
  },
  {
   "cell_type": "markdown",
   "id": "7d3829ca",
   "metadata": {},
   "source": [
    "#### dictionary comprehension\n",
    "- {output input_"
   ]
  },
  {
   "cell_type": "code",
   "execution_count": 10,
   "id": "b3fd20f3",
   "metadata": {},
   "outputs": [],
   "source": [
    "d={\"clg\":[\"kits\",\"vvit\"]\n",
    "   ,\"area\":\"guntur\",\"state\":\"a.p\"}"
   ]
  },
  {
   "cell_type": "code",
   "execution_count": 11,
   "id": "3d5b3c5d",
   "metadata": {},
   "outputs": [
    {
     "data": {
      "text/plain": [
       "['kits', 'vvit']"
      ]
     },
     "execution_count": 11,
     "metadata": {},
     "output_type": "execute_result"
    }
   ],
   "source": [
    "d[\"clg\"]"
   ]
  },
  {
   "cell_type": "code",
   "execution_count": 12,
   "id": "5e2940f3",
   "metadata": {},
   "outputs": [],
   "source": [
    "d.update({10:\"lines\"})"
   ]
  },
  {
   "cell_type": "code",
   "execution_count": 13,
   "id": "b2404327",
   "metadata": {},
   "outputs": [
    {
     "data": {
      "text/plain": [
       "{'clg': ['kits', 'vvit'], 'area': 'guntur', 'state': 'a.p', 10: 'lines'}"
      ]
     },
     "execution_count": 13,
     "metadata": {},
     "output_type": "execute_result"
    }
   ],
   "source": [
    "d\n"
   ]
  },
  {
   "cell_type": "code",
   "execution_count": 20,
   "id": "38d05785",
   "metadata": {},
   "outputs": [
    {
     "name": "stdout",
     "output_type": "stream",
     "text": [
      "enter upto squres=10\n",
      "{1: 1, 2: 4, 3: 9, 4: 16, 5: 25, 6: 36, 7: 49, 8: 64, 9: 81, 10: 100}\n"
     ]
    }
   ],
   "source": [
    "s={}\n",
    "n=int(input(\"enter upto squres=\"))\n",
    "for i in range(1,n+1):\n",
    "    x=i**2\n",
    "    s.update({i:x})\n",
    "print(s)"
   ]
  },
  {
   "cell_type": "code",
   "execution_count": 27,
   "id": "bb304b51",
   "metadata": {},
   "outputs": [
    {
     "name": "stdout",
     "output_type": "stream",
     "text": [
      "['__add__', '__class__', '__contains__', '__delattr__', '__dir__', '__doc__', '__eq__', '__format__', '__ge__', '__getattribute__', '__getitem__', '__getnewargs__', '__gt__', '__hash__', '__init__', '__init_subclass__', '__iter__', '__le__', '__len__', '__lt__', '__mod__', '__mul__', '__ne__', '__new__', '__reduce__', '__reduce_ex__', '__repr__', '__rmod__', '__rmul__', '__setattr__', '__sizeof__', '__str__', '__subclasshook__', 'capitalize', 'casefold', 'center', 'count', 'encode', 'endswith', 'expandtabs', 'find', 'format', 'format_map', 'index', 'isalnum', 'isalpha', 'isascii', 'isdecimal', 'isdigit', 'isidentifier', 'islower', 'isnumeric', 'isprintable', 'isspace', 'istitle', 'isupper', 'join', 'ljust', 'lower', 'lstrip', 'maketrans', 'partition', 'replace', 'rfind', 'rindex', 'rjust', 'rpartition', 'rsplit', 'rstrip', 'split', 'splitlines', 'startswith', 'strip', 'swapcase', 'title', 'translate', 'upper', 'zfill']\n"
     ]
    }
   ],
   "source": [
    "print(dir(str))\n"
   ]
  },
  {
   "cell_type": "code",
   "execution_count": 10,
   "id": "163fc683",
   "metadata": {},
   "outputs": [
    {
     "name": "stdout",
     "output_type": "stream",
     "text": [
      "['s', 't', 'r', 'i', 'n', 'h']\n"
     ]
    },
    {
     "data": {
      "text/plain": [
       "['h', 'n', 'i', 'r', 't', 's']"
      ]
     },
     "execution_count": 10,
     "metadata": {},
     "output_type": "execute_result"
    }
   ],
   "source": [
    "s=\"strinh\"\n",
    "s1=s[::-1]\n",
    "s1\n",
    "a=[]\n",
    "for i in s:\n",
    "    a.append(i)\n",
    "print(a)\n",
    "a[::-1]"
   ]
  },
  {
   "cell_type": "code",
   "execution_count": 20,
   "id": "f721401a",
   "metadata": {},
   "outputs": [
    {
     "name": "stdout",
     "output_type": "stream",
     "text": [
      "h n i r t s "
     ]
    }
   ],
   "source": [
    "s=\"strinh\"\n",
    "s1=reversed(s)\n",
    "for i in s1:\n",
    "    print(i,end=(\" \"))"
   ]
  },
  {
   "cell_type": "code",
   "execution_count": 30,
   "id": "8cea5477",
   "metadata": {},
   "outputs": [
    {
     "name": "stdout",
     "output_type": "stream",
     "text": [
      "e\n",
      "g\n",
      "e\n",
      "l\n",
      "l\n",
      "o\n",
      "c\n",
      " \n",
      "r\n",
      "s\n",
      "k\n",
      " \n",
      "r\n",
      "k\n",
      "k\n",
      " \n",
      "i\n",
      "h\n"
     ]
    }
   ],
   "source": [
    "s=\"hi kkr ksr college\"\n",
    "s1=reversed(s)\n",
    "for i in s1:\n",
    "    s[::-1]\n",
    "    print()\n",
    "#s[::-1]"
   ]
  },
  {
   "cell_type": "code",
   "execution_count": 28,
   "id": "3dbb45d1",
   "metadata": {},
   "outputs": [
    {
     "ename": "AttributeError",
     "evalue": "'str' object has no attribute 'jion'",
     "output_type": "error",
     "traceback": [
      "\u001b[1;31m---------------------------------------------------------------------------\u001b[0m",
      "\u001b[1;31mAttributeError\u001b[0m                            Traceback (most recent call last)",
      "\u001b[1;32m<ipython-input-28-30169aba8de5>\u001b[0m in \u001b[0;36m<module>\u001b[1;34m\u001b[0m\n\u001b[0;32m      5\u001b[0m         \u001b[0ms2\u001b[0m\u001b[1;33m.\u001b[0m\u001b[0mjion\u001b[0m\u001b[1;33m(\u001b[0m\u001b[1;36m0\u001b[0m\u001b[1;33m)\u001b[0m\u001b[1;33m\u001b[0m\u001b[1;33m\u001b[0m\u001b[0m\n\u001b[0;32m      6\u001b[0m     \u001b[1;32melse\u001b[0m\u001b[1;33m:\u001b[0m\u001b[1;33m\u001b[0m\u001b[1;33m\u001b[0m\u001b[0m\n\u001b[1;32m----> 7\u001b[1;33m         \u001b[0ms2\u001b[0m\u001b[1;33m.\u001b[0m\u001b[0mjion\u001b[0m\u001b[1;33m(\u001b[0m\u001b[1;33m)\u001b[0m\u001b[1;33m\u001b[0m\u001b[1;33m\u001b[0m\u001b[0m\n\u001b[0m",
      "\u001b[1;31mAttributeError\u001b[0m: 'str' object has no attribute 'jion'"
     ]
    }
   ],
   "source": [
    "s=\"hi kkr ksr college\"\n",
    "s2\n",
    "for i in s:\n",
    "    if i==\" \":\n",
    "        s2.jion(0)\n",
    "    else:\n",
    "        s2.jion()"
   ]
  },
  {
   "cell_type": "code",
   "execution_count": 31,
   "id": "b965153f",
   "metadata": {},
   "outputs": [
    {
     "ename": "SyntaxError",
     "evalue": "invalid syntax (<ipython-input-31-1e4e1b0686a5>, line 3)",
     "output_type": "error",
     "traceback": [
      "\u001b[1;36m  File \u001b[1;32m\"<ipython-input-31-1e4e1b0686a5>\"\u001b[1;36m, line \u001b[1;32m3\u001b[0m\n\u001b[1;33m    for i in\u001b[0m\n\u001b[1;37m            ^\u001b[0m\n\u001b[1;31mSyntaxError\u001b[0m\u001b[1;31m:\u001b[0m invalid syntax\n"
     ]
    }
   ],
   "source": [
    "s=\" one two three four five six\"\n",
    "l=s.split(\" \")\n",
    "for i in l:\n",
    "    if "
   ]
  },
  {
   "cell_type": "code",
   "execution_count": 34,
   "id": "f1f49cf8",
   "metadata": {},
   "outputs": [
    {
     "name": "stdout",
     "output_type": "stream",
     "text": [
      "enter a string1=hari\n",
      "enter a string2=arih\n",
      "palagram\n"
     ]
    }
   ],
   "source": [
    "\n",
    "s= input(\"enter a string1=\")\n",
    "s1= input(\"enter a string2=\")\n",
    "if sorted(s)==sorted (s1):\n",
    "    print(\"palagram\")\n",
    "else:\n",
    "    print(\"not\")"
   ]
  },
  {
   "cell_type": "code",
   "execution_count": 37,
   "id": "95eb0145",
   "metadata": {},
   "outputs": [
    {
     "name": "stdout",
     "output_type": "stream",
     "text": [
      "enter a string1=10\n",
      "enter a string2=20\n",
      "s 20\n",
      "s1 10\n"
     ]
    }
   ],
   "source": [
    "s= int(input(\"enter a string1=\"))\n",
    "s1= int(input(\"enter a string2=\"))\n",
    "s2=s1\n",
    "s1=s\n",
    "s=s2\n",
    "print(\"s\",s)\n",
    "print(\"s1\",s1)"
   ]
  },
  {
   "cell_type": "code",
   "execution_count": 2,
   "id": "34b4d57e",
   "metadata": {},
   "outputs": [
    {
     "name": "stdout",
     "output_type": "stream",
     "text": [
      "enter a string1=20\n",
      "enter a string2=10\n",
      "s 10\n",
      "s1 20\n"
     ]
    }
   ],
   "source": [
    "s=int(input(\"enter a string1=\"))\n",
    "s1=int(input(\"enter a string2=\"))\n",
    "s1,s=s,s1\n",
    "print(\"s\",s)\n",
    "print(\"s1\",s1)"
   ]
  },
  {
   "cell_type": "code",
   "execution_count": 3,
   "id": "d5d01593",
   "metadata": {},
   "outputs": [
    {
     "data": {
      "text/plain": [
       "12.6"
      ]
     },
     "execution_count": 3,
     "metadata": {},
     "output_type": "execute_result"
    }
   ],
   "source": [
    "2.6+s"
   ]
  },
  {
   "cell_type": "code",
   "execution_count": null,
   "id": "8da142d0",
   "metadata": {},
   "outputs": [],
   "source": []
  }
 ],
 "metadata": {
  "kernelspec": {
   "display_name": "Python 3",
   "language": "python",
   "name": "python3"
  },
  "language_info": {
   "codemirror_mode": {
    "name": "ipython",
    "version": 3
   },
   "file_extension": ".py",
   "mimetype": "text/x-python",
   "name": "python",
   "nbconvert_exporter": "python",
   "pygments_lexer": "ipython3",
   "version": "3.8.8"
  }
 },
 "nbformat": 4,
 "nbformat_minor": 5
}
